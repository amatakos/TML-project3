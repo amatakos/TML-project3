{
 "cells": [
  {
   "cell_type": "code",
   "execution_count": 1,
   "id": "8c249c54",
   "metadata": {},
   "outputs": [
    {
     "name": "stderr",
     "output_type": "stream",
     "text": [
      "WARNING:root:No module named 'numba': LFR will be unavailable. To install, run:\n",
      "pip install 'aif360[LFR]'\n",
      "WARNING:root:No module named 'tensorflow': AdversarialDebiasing will be unavailable. To install, run:\n",
      "pip install 'aif360[AdversarialDebiasing]'\n"
     ]
    }
   ],
   "source": [
    "import numpy as np\n",
    "import pandas as pd\n",
    "import matplotlib.pyplot as plt\n",
    "import seaborn as sn\n",
    "from tqdm import tqdm\n",
    "from sklearn.preprocessing import MinMaxScaler, StandardScaler\n",
    "from sklearn.model_selection import train_test_split\n",
    "from sklearn.linear_model import LogisticRegression\n",
    "\n",
    "from aif360.algorithms.preprocessing import DisparateImpactRemover\n",
    "from aif360.datasets import StandardDataset as Dataset\n",
    "from aif360.metrics import BinaryLabelDatasetMetric\n",
    "from aif360.algorithms.postprocessing.reject_option_classification\\\n",
    "        import RejectOptionClassification"
   ]
  },
  {
   "cell_type": "markdown",
   "id": "672f3c07",
   "metadata": {},
   "source": [
    "### Download two year dataset"
   ]
  },
  {
   "cell_type": "code",
   "execution_count": 2,
   "id": "27fb4df2",
   "metadata": {},
   "outputs": [],
   "source": [
    "df = pd.read_csv(\"https://raw.githubusercontent.com/propublica/compas-analysis/master/compas-scores-two-years.csv\")"
   ]
  },
  {
   "cell_type": "markdown",
   "id": "3179df1b",
   "metadata": {},
   "source": [
    "### Pre-processing"
   ]
  },
  {
   "cell_type": "code",
   "execution_count": 3,
   "id": "4debfce3",
   "metadata": {},
   "outputs": [
    {
     "data": {
      "text/html": [
       "<div>\n",
       "<style scoped>\n",
       "    .dataframe tbody tr th:only-of-type {\n",
       "        vertical-align: middle;\n",
       "    }\n",
       "\n",
       "    .dataframe tbody tr th {\n",
       "        vertical-align: top;\n",
       "    }\n",
       "\n",
       "    .dataframe thead th {\n",
       "        text-align: right;\n",
       "    }\n",
       "</style>\n",
       "<table border=\"1\" class=\"dataframe\">\n",
       "  <thead>\n",
       "    <tr style=\"text-align: right;\">\n",
       "      <th></th>\n",
       "      <th>sex</th>\n",
       "      <th>age_cat</th>\n",
       "      <th>race</th>\n",
       "      <th>juv_fel_count</th>\n",
       "      <th>juv_misd_count</th>\n",
       "      <th>juv_other_count</th>\n",
       "      <th>priors_count</th>\n",
       "      <th>c_charge_degree</th>\n",
       "      <th>two_year_recid</th>\n",
       "      <th>duration</th>\n",
       "    </tr>\n",
       "  </thead>\n",
       "  <tbody>\n",
       "    <tr>\n",
       "      <th>1</th>\n",
       "      <td>0.0</td>\n",
       "      <td>1.0</td>\n",
       "      <td>0.0</td>\n",
       "      <td>0</td>\n",
       "      <td>0</td>\n",
       "      <td>0</td>\n",
       "      <td>0</td>\n",
       "      <td>1.0</td>\n",
       "      <td>1</td>\n",
       "      <td>150</td>\n",
       "    </tr>\n",
       "    <tr>\n",
       "      <th>2</th>\n",
       "      <td>0.0</td>\n",
       "      <td>0.0</td>\n",
       "      <td>0.0</td>\n",
       "      <td>0</td>\n",
       "      <td>0</td>\n",
       "      <td>1</td>\n",
       "      <td>4</td>\n",
       "      <td>1.0</td>\n",
       "      <td>1</td>\n",
       "      <td>63</td>\n",
       "    </tr>\n",
       "    <tr>\n",
       "      <th>3</th>\n",
       "      <td>0.0</td>\n",
       "      <td>0.0</td>\n",
       "      <td>0.0</td>\n",
       "      <td>0</td>\n",
       "      <td>1</td>\n",
       "      <td>0</td>\n",
       "      <td>1</td>\n",
       "      <td>1.0</td>\n",
       "      <td>0</td>\n",
       "      <td>1174</td>\n",
       "    </tr>\n",
       "    <tr>\n",
       "      <th>6</th>\n",
       "      <td>0.0</td>\n",
       "      <td>1.0</td>\n",
       "      <td>1.0</td>\n",
       "      <td>0</td>\n",
       "      <td>0</td>\n",
       "      <td>0</td>\n",
       "      <td>14</td>\n",
       "      <td>1.0</td>\n",
       "      <td>1</td>\n",
       "      <td>35</td>\n",
       "    </tr>\n",
       "    <tr>\n",
       "      <th>8</th>\n",
       "      <td>1.0</td>\n",
       "      <td>1.0</td>\n",
       "      <td>1.0</td>\n",
       "      <td>0</td>\n",
       "      <td>0</td>\n",
       "      <td>0</td>\n",
       "      <td>0</td>\n",
       "      <td>0.0</td>\n",
       "      <td>0</td>\n",
       "      <td>745</td>\n",
       "    </tr>\n",
       "  </tbody>\n",
       "</table>\n",
       "</div>"
      ],
      "text/plain": [
       "   sex  age_cat  race  juv_fel_count  juv_misd_count  juv_other_count  \\\n",
       "1  0.0      1.0   0.0              0               0                0   \n",
       "2  0.0      0.0   0.0              0               0                1   \n",
       "3  0.0      0.0   0.0              0               1                0   \n",
       "6  0.0      1.0   1.0              0               0                0   \n",
       "8  1.0      1.0   1.0              0               0                0   \n",
       "\n",
       "   priors_count  c_charge_degree  two_year_recid  duration  \n",
       "1             0              1.0               1       150  \n",
       "2             4              1.0               1        63  \n",
       "3             1              1.0               0      1174  \n",
       "6            14              1.0               1        35  \n",
       "8             0              0.0               0       745  "
      ]
     },
     "execution_count": 3,
     "metadata": {},
     "output_type": "execute_result"
    }
   ],
   "source": [
    "### Discard most features\n",
    "df = df.copy().drop(columns=['id', 'name', 'first', 'last', 'compas_screening_date',\n",
    "                                      'dob', 'age', 'c_jail_in', 'c_jail_out', 'c_case_number', 'c_offense_date',\n",
    "                           'c_arrest_date','c_charge_desc','days_b_screening_arrest', 'decile_score',\n",
    "                           'r_case_number', 'r_days_from_arrest', 'r_offense_date', 'c_days_from_compas',\n",
    "                           'r_charge_degree', 'r_charge_desc', 'r_jail_in', 'r_jail_out','priors_count.1',\n",
    "                           'violent_recid', 'is_violent_recid', 'vr_case_number', \n",
    "                           'vr_charge_degree', 'vr_offense_date', 'vr_case_number',\n",
    "                           'vr_charge_degree', 'vr_offense_date', 'vr_charge_desc', \n",
    "                           'type_of_assessment', 'decile_score.1', 'score_text', 'is_recid',\n",
    "                           'v_type_of_assessment', 'screening_date', 'v_decile_score',\n",
    "                           'v_score_text', 'v_screening_date', 'in_custody', 'out_custody',\n",
    "                           'event'])\n",
    "\n",
    "### Keep only whites and blacks\n",
    "race_map = {'African-American':0., 'Caucasian':1., 'Asian':2., 'Hispanic':3., 'Native American':4., 'Other':5.\n",
    "}\n",
    "\n",
    "df['race'] = df['race'].apply(lambda x: race_map[x])\n",
    "df = df[(df.race == 0.) | (df.race == 1.)]\n",
    "\n",
    "### Categorize age\n",
    "df['age_cat'] = df['age_cat'].apply(lambda x: 0. if x=='Less than 25' else 1. if x=='25 - 45' else 2.)\n",
    "\n",
    "### Convert sex to 0-1\n",
    "df['sex'] = df['sex'].apply(lambda x: 0. if x=='Male' else 1.)\n",
    "\n",
    "### Convert charge degree to 0-1\n",
    "df['c_charge_degree'] = df['c_charge_degree'].apply(lambda x: 1. if x=='F' else 0.)\n",
    "\n",
    "### Construct duration column\n",
    "df['duration'] = df.end - df.start\n",
    "df = df.drop(columns=['end', 'start'])\n",
    "\n",
    "### Target variable is if released prisoner recomitted crime\n",
    "X = df.drop(columns=['two_year_recid']).values\n",
    "y = df['two_year_recid'].values\n",
    "\n",
    "### Rescale data\n",
    "scaler = MinMaxScaler()\n",
    "X = scaler.fit_transform(X)\n",
    "\n",
    "df.head()"
   ]
  },
  {
   "cell_type": "markdown",
   "id": "adf99007",
   "metadata": {},
   "source": [
    "### Training"
   ]
  },
  {
   "cell_type": "code",
   "execution_count": 4,
   "id": "fbaa7003",
   "metadata": {},
   "outputs": [
    {
     "name": "stdout",
     "output_type": "stream",
     "text": [
      "Accuracy = 0.873\n"
     ]
    }
   ],
   "source": [
    "### Split to train / test\n",
    "X_train, X_test, y_train, y_test = train_test_split(X, y, test_size=0.33, random_state=42)\n",
    "\n",
    "### Fit logistic regression and print accuracy\n",
    "clf = LogisticRegression(random_state=42).fit(X_train, y_train)\n",
    "y_pred = clf.predict(X_test)\n",
    "\n",
    "acc = np.sum(y_pred == y_test) / len(y_test)\n",
    "print(\"Accuracy =\", np.round(acc, 3))"
   ]
  },
  {
   "cell_type": "markdown",
   "id": "7fffa6fc",
   "metadata": {},
   "source": [
    "### Percentage of recidivism"
   ]
  },
  {
   "cell_type": "code",
   "execution_count": 5,
   "id": "60df23cf",
   "metadata": {},
   "outputs": [
    {
     "name": "stdout",
     "output_type": "stream",
     "text": [
      "Percentage of recidivism in test set: 0.471\n"
     ]
    }
   ],
   "source": [
    "print(\"Percentage of recidivism in test set:\", np.round(np.mean(y_test), 3))"
   ]
  },
  {
   "cell_type": "markdown",
   "id": "05507cfd",
   "metadata": {},
   "source": [
    "### Let's compare the ratio of African-American to Caucasians in the original data and the same ratio in the predicted reoffenses (demographic parity metric)"
   ]
  },
  {
   "cell_type": "code",
   "execution_count": 6,
   "id": "6e522c8b",
   "metadata": {},
   "outputs": [
    {
     "name": "stdout",
     "output_type": "stream",
     "text": [
      "Black to white prisoners ratio: 1.51\n"
     ]
    }
   ],
   "source": [
    "afr_am_to_whites_ratio = np.sum(df['race'].values == 0.) / np.sum(df['race'].values == 1.)\n",
    "print(\"Black to white prisoners ratio:\", np.round(afr_am_to_whites_ratio, 2))"
   ]
  },
  {
   "cell_type": "markdown",
   "id": "930bc693",
   "metadata": {},
   "source": [
    "### Let's see the same ratio on the predicted outcomes"
   ]
  },
  {
   "cell_type": "code",
   "execution_count": 7,
   "id": "190cfc9f",
   "metadata": {},
   "outputs": [
    {
     "name": "stdout",
     "output_type": "stream",
     "text": [
      "Black to white prisoners ratio: 1.52\n",
      "Predicted reoffense blacks to whites ratio: 2.18\n"
     ]
    }
   ],
   "source": [
    "# Predict on test\n",
    "\n",
    "# 3rd column is race\n",
    "afr_am = np.isclose(X_test[:, 2], 0.)\n",
    "white = np.isclose(X_test[:, 2], 1.)\n",
    "\n",
    "pred_afr_am = y_pred[afr_am]\n",
    "pred_white = y_pred[white]\n",
    "\n",
    "afr_am_to_whites_ratio = np.sum(afr_am) / np.sum(white)\n",
    "predicted_reoffense_afr_am_to_whites_ratio = np.sum(pred_afr_am) / np.sum(pred_white)\n",
    "\n",
    "print(\"Black to white prisoners ratio:\", np.round(afr_am_to_whites_ratio, 2))\n",
    "print(\"Predicted reoffense blacks to whites ratio:\", np.round(predicted_reoffense_afr_am_to_whites_ratio, 2))"
   ]
  },
  {
   "cell_type": "markdown",
   "id": "c50096f7",
   "metadata": {},
   "source": [
    "### Check the coefficients to identify the most important predictive variables"
   ]
  },
  {
   "cell_type": "code",
   "execution_count": 8,
   "id": "5b7614de",
   "metadata": {},
   "outputs": [
    {
     "data": {
      "text/plain": [
       "array([[-0.14923354, -0.77276445, -0.17726532,  0.92978236,  0.40985674,\n",
       "         0.82888595,  1.8915404 , -0.25321452, -8.83930509]])"
      ]
     },
     "execution_count": 8,
     "metadata": {},
     "output_type": "execute_result"
    }
   ],
   "source": [
    "clf.coef_"
   ]
  },
  {
   "cell_type": "markdown",
   "id": "75a73d82",
   "metadata": {},
   "source": [
    "### We can clearly see that the coefficients corresponding to captivity duration and prior offenses count are the best predictors of recidivism. This is good since these should not contain much bias"
   ]
  },
  {
   "cell_type": "code",
   "execution_count": 9,
   "id": "44cf19c5",
   "metadata": {},
   "outputs": [
    {
     "data": {
      "image/png": "[encoded data removed]",
      "text/plain": [
       "<Figure size 432x288 with 2 Axes>"
      ]
     },
     "metadata": {
      "needs_background": "light"
     },
     "output_type": "display_data"
    }
   ],
   "source": [
    "corr_matrix = df.corr()\n",
    "\n",
    "sn.heatmap(corr_matrix, annot=True)\n",
    "plt.show()"
   ]
  },
  {
   "cell_type": "markdown",
   "id": "5f254f97",
   "metadata": {},
   "source": [
    "### Implement Disparate Impact Repairing"
   ]
  },
  {
   "cell_type": "code",
   "execution_count": 10,
   "id": "2b41ae59",
   "metadata": {},
   "outputs": [],
   "source": [
    "protected = 'race'\n",
    "cd = Dataset(df,\n",
    "             label_name='two_year_recid',\n",
    "             favorable_classes=[0],\n",
    "             protected_attribute_names=[protected],\n",
    "             privileged_classes=[[1]], categorical_features=[],   # 0 -> Black, 1 -> White\n",
    "             features_to_keep=['race', 'priors_count', 'duration'])"
   ]
  },
  {
   "cell_type": "code",
   "execution_count": 11,
   "id": "55f34957",
   "metadata": {},
   "outputs": [],
   "source": [
    "scaler = MinMaxScaler(copy=False)\n",
    "\n",
    "test, train = cd.split([0.33], seed=42)\n",
    "train.features = scaler.fit_transform(train.features)\n",
    "test.features = scaler.fit_transform(test.features)\n",
    "\n",
    "index = train.feature_names.index(protected)"
   ]
  },
  {
   "cell_type": "markdown",
   "id": "4263db94",
   "metadata": {},
   "source": [
    "### Try out 10 different repair levels between 0 and 1"
   ]
  },
  {
   "cell_type": "code",
   "execution_count": 12,
   "id": "67f94632",
   "metadata": {},
   "outputs": [
    {
     "name": "stderr",
     "output_type": "stream",
     "text": [
      "100%|██████████████████████████████████████████████████████████████████████████████████| 11/11 [00:01<00:00,  6.15it/s]\n"
     ]
    }
   ],
   "source": [
    "DIs = []\n",
    "for level in tqdm(np.linspace(0., 1., 11)):\n",
    "    di = DisparateImpactRemover(repair_level=level)\n",
    "    train_repd = di.fit_transform(train)\n",
    "    test_repd = di.fit_transform(test)\n",
    "    \n",
    "    X_tr = np.delete(train_repd.features, index, axis=1)\n",
    "    X_te = np.delete(test_repd.features, index, axis=1)\n",
    "    y_tr = train_repd.labels.ravel()\n",
    "    \n",
    "    lmod = LogisticRegression(class_weight='balanced', solver='liblinear')\n",
    "    lmod.fit(X_tr, y_tr)\n",
    "    \n",
    "    test_repd_pred = test_repd.copy()\n",
    "    test_repd_pred.labels = lmod.predict(X_te)\n",
    "\n",
    "    p = [{protected: 1}]\n",
    "    u = [{protected: 0}]\n",
    "    cm = BinaryLabelDatasetMetric(test_repd_pred, privileged_groups=p, unprivileged_groups=u)\n",
    "    DIs.append(cm.disparate_impact())"
   ]
  },
  {
   "cell_type": "markdown",
   "id": "9b7e18a1",
   "metadata": {},
   "source": [
    "### Plot"
   ]
  },
  {
   "cell_type": "code",
   "execution_count": 13,
   "id": "4e27ffae",
   "metadata": {
    "scrolled": true
   },
   "outputs": [
    {
     "name": "stderr",
     "output_type": "stream",
     "text": [
      "C:\\Users\\Administrator\\AppData\\Local\\Temp\\ipykernel_24996\\3139045373.py:8: UserWarning: Matplotlib is currently using agg, which is a non-GUI backend, so cannot show the figure.\n",
      "  plt.show()\n"
     ]
    },
    {
     "data": {
      "image/png": "[encoded data removed]",
      "text/plain": [
       "<Figure size 576x360 with 1 Axes>"
      ]
     },
     "metadata": {
      "needs_background": "light"
     },
     "output_type": "display_data"
    }
   ],
   "source": [
    "plt.figure(figsize=(8,5))\n",
    "plt.plot(np.linspace(0, 1, 11), DIs, marker='o')\n",
    "plt.plot([0, 1], [0.8, 0.8], 'r')\n",
    "plt.ylim([0.7, 1.])\n",
    "plt.ylabel('Disparate Impact (DI)', fontsize=16)\n",
    "plt.xlabel('repair level',fontsize=16)\n",
    "plt.savefig('DisparateImpact.png')\n",
    "plt.show()"
   ]
  },
  {
   "cell_type": "markdown",
   "id": "a4199028",
   "metadata": {},
   "source": [
    "### Let's see how the model is doing now on predicted recidivism blacks to whites ratio"
   ]
  },
  {
   "cell_type": "code",
   "execution_count": 14,
   "id": "27490d61",
   "metadata": {},
   "outputs": [
    {
     "name": "stdout",
     "output_type": "stream",
     "text": [
      "Black to white prisoners ratio: 1.52\n",
      "Predicted reoffense blacks to whites ratio: 2.11\n"
     ]
    }
   ],
   "source": [
    "# Predict on test\n",
    "y_pred = lmod.predict(X_test[:, [-3, -1]])\n",
    "\n",
    "# 3rd column is race\n",
    "afr_am = np.isclose(X_test[:, 2], 0.)\n",
    "white = np.isclose(X_test[:, 2], 1.)\n",
    "\n",
    "pred_afr_am = y_pred[afr_am]\n",
    "pred_white = y_pred[white]\n",
    "\n",
    "afr_am_to_whites_ratio = np.sum(afr_am) / np.sum(white)\n",
    "predicted_reoffense_afr_am_to_whites_ratio = np.sum(pred_afr_am) / np.sum(pred_white)\n",
    "\n",
    "print(\"Black to white prisoners ratio:\", np.round(afr_am_to_whites_ratio, 2))\n",
    "print(\"Predicted reoffense blacks to whites ratio:\", np.round(predicted_reoffense_afr_am_to_whites_ratio, 2))"
   ]
  },
  {
   "cell_type": "markdown",
   "id": "0469e356",
   "metadata": {},
   "source": [
    "### We can see that the ratio has dropped, which means we have mitigated some bias!"
   ]
  },
  {
   "cell_type": "code",
   "execution_count": 15,
   "id": "804abf25",
   "metadata": {},
   "outputs": [],
   "source": [
    "privileged_groups = [{'race': 1.}]\n",
    "unprivileged_groups = [{'race': 0.}]"
   ]
  },
  {
   "cell_type": "code",
   "execution_count": 16,
   "id": "a0984feb",
   "metadata": {},
   "outputs": [
    {
     "name": "stdout",
     "output_type": "stream",
     "text": [
      "Difference in mean outcomes between blacks and whites = -0.125928\n"
     ]
    }
   ],
   "source": [
    "metric_orig_train = BinaryLabelDatasetMetric(train, \n",
    "                                             unprivileged_groups=unprivileged_groups,\n",
    "                                             privileged_groups=privileged_groups)\n",
    "\n",
    "print(\"Difference in mean outcomes between blacks and whites = %f\" % metric_orig_train.mean_difference())"
   ]
  },
  {
   "cell_type": "code",
   "execution_count": 17,
   "id": "64cdc7f2",
   "metadata": {},
   "outputs": [],
   "source": [
    "from aif360.algorithms.preprocessing.reweighing import Reweighing\n",
    "\n",
    "RW = Reweighing(unprivileged_groups=unprivileged_groups,\n",
    "               privileged_groups=privileged_groups)\n",
    "RW.fit(train)\n",
    "transf_train = RW.transform(train)"
   ]
  },
  {
   "cell_type": "code",
   "execution_count": 18,
   "id": "974631fe",
   "metadata": {},
   "outputs": [
    {
     "data": {
      "text/plain": [
       "True"
      ]
     },
     "execution_count": 18,
     "metadata": {},
     "output_type": "execute_result"
    }
   ],
   "source": [
    "### Testing \n",
    "np.abs(transf_train.instance_weights.sum()-train.instance_weights.sum())<1e-6"
   ]
  },
  {
   "cell_type": "markdown",
   "id": "83a0e57e",
   "metadata": {},
   "source": [
    "### Metric with the transformed training data"
   ]
  },
  {
   "cell_type": "code",
   "execution_count": 19,
   "id": "bb3e252c",
   "metadata": {},
   "outputs": [
    {
     "name": "stdout",
     "output_type": "stream",
     "text": [
      "Difference in mean outcomes between transformed blacks and whites = -0.000000\n"
     ]
    }
   ],
   "source": [
    "metric_transf_train = BinaryLabelDatasetMetric(transf_train, \n",
    "                                             unprivileged_groups=unprivileged_groups,\n",
    "                                             privileged_groups=privileged_groups)\n",
    "\n",
    "print(\"Difference in mean outcomes between transformed blacks and whites = %f\" % metric_transf_train.mean_difference())"
   ]
  },
  {
   "cell_type": "markdown",
   "id": "362024d7",
   "metadata": {},
   "source": [
    "### Train Logistic Regression with reweighed dataset"
   ]
  },
  {
   "cell_type": "code",
   "execution_count": 20,
   "id": "3390ce94",
   "metadata": {},
   "outputs": [],
   "source": [
    "scale_transf = StandardScaler()\n",
    "X_reweighed_train = scale_transf.fit_transform(transf_train.features)\n",
    "y_reweighed_train = transf_train.labels.ravel()\n",
    "\n",
    "lmod = LogisticRegression()\n",
    "lmod.fit(X_reweighed_train, y_reweighed_train,\n",
    "        sample_weight=transf_train.instance_weights)\n",
    "y_train_pred = lmod.predict(X_reweighed_train)"
   ]
  },
  {
   "cell_type": "code",
   "execution_count": 21,
   "id": "d4021134",
   "metadata": {},
   "outputs": [
    {
     "name": "stdout",
     "output_type": "stream",
     "text": [
      "Black to white prisoners ratio: 1.52\n",
      "Predicted reoffense blacks to whites ratio: 1.5\n"
     ]
    }
   ],
   "source": [
    "transf_test = RW.transform(test)\n",
    "\n",
    "scale_transf = StandardScaler()\n",
    "X_reweighed_test = scale_transf.fit_transform(transf_test.features)\n",
    "y_reweighed_test = transf_test.labels.ravel()\n",
    "\n",
    "# Predict on test\n",
    "y_pred = lmod.predict(X_reweighed_test)\n",
    "\n",
    "# 3rd column is race\n",
    "afr_am = np.isclose(X_test[:, 2], 0.)\n",
    "white = np.isclose(X_test[:, 2], 1.)\n",
    "\n",
    "pred_afr_am = y_pred[afr_am[:-1]]\n",
    "pred_white = y_pred[white[:-1]]\n",
    "\n",
    "afr_am_to_whites_ratio = np.sum(afr_am) / np.sum(white)\n",
    "predicted_reoffense_afr_am_to_whites_ratio = np.sum(pred_afr_am) / np.sum(pred_white)\n",
    "\n",
    "print(\"Black to white prisoners ratio:\", np.round(afr_am_to_whites_ratio, 2))\n",
    "print(\"Predicted reoffense blacks to whites ratio:\", np.round(predicted_reoffense_afr_am_to_whites_ratio, 2))"
   ]
  },
  {
   "cell_type": "markdown",
   "id": "bec22eea",
   "metadata": {},
   "source": [
    "### Ratio unfairness is fixed, let's see this classifier's accuracy"
   ]
  },
  {
   "cell_type": "code",
   "execution_count": 22,
   "id": "4e9979f4",
   "metadata": {},
   "outputs": [
    {
     "name": "stdout",
     "output_type": "stream",
     "text": [
      "Accuracy = 0.875\n"
     ]
    }
   ],
   "source": [
    "y_pred = lmod.predict(X_reweighed_test)\n",
    "\n",
    "acc = np.sum(y_pred == y_reweighed_test) / len(y_reweighed_test)\n",
    "print(\"Accuracy =\", np.round(acc, 3))"
   ]
  },
  {
   "cell_type": "markdown",
   "id": "65074eba",
   "metadata": {},
   "source": [
    "### Great! Let's see if reweighing has affected disparate impact"
   ]
  },
  {
   "cell_type": "code",
   "execution_count": 23,
   "id": "6a7f10ce",
   "metadata": {},
   "outputs": [],
   "source": [
    "p = [{protected: 1}]\n",
    "u = [{protected: 0}]\n",
    "cm = BinaryLabelDatasetMetric(transf_test.copy(), privileged_groups=p, unprivileged_groups=u)\n",
    "DIs.append(cm.disparate_impact())"
   ]
  },
  {
   "cell_type": "markdown",
   "id": "d12043ee",
   "metadata": {},
   "source": [
    "### Plot the new DIs"
   ]
  },
  {
   "cell_type": "code",
   "execution_count": 24,
   "id": "44d3984a",
   "metadata": {
    "scrolled": true
   },
   "outputs": [
    {
     "name": "stderr",
     "output_type": "stream",
     "text": [
      "C:\\Users\\Administrator\\AppData\\Local\\Temp\\ipykernel_24996\\2591635188.py:9: UserWarning: Matplotlib is currently using agg, which is a non-GUI backend, so cannot show the figure.\n",
      "  plt.show()\n"
     ]
    },
    {
     "data": {
      "image/png": "[encoded data removed]",
      "text/plain": [
       "<Figure size 576x360 with 1 Axes>"
      ]
     },
     "metadata": {
      "needs_background": "light"
     },
     "output_type": "display_data"
    }
   ],
   "source": [
    "plt.figure(figsize=(8,5))\n",
    "plt.plot(np.linspace(0, 1, 12), DIs, marker='o')\n",
    "plt.plot([0, 1], [1, 1], 'g')\n",
    "plt.plot([0, 1], [0.8, 0.8], 'r')\n",
    "plt.ylim([0.7, 1.1])\n",
    "plt.ylabel('Disparate Impact (DI)', fontsize=16)\n",
    "plt.xlabel('repair level',fontsize=16)\n",
    "plt.savefig('DisparateImpactFixed.png')\n",
    "plt.show()"
   ]
  },
  {
   "cell_type": "markdown",
   "id": "70fe3ee3",
   "metadata": {},
   "source": [
    "### Now we move on to Reject Option Classification"
   ]
  },
  {
   "cell_type": "code",
   "execution_count": 26,
   "id": "ba7a04f6",
   "metadata": {},
   "outputs": [],
   "source": [
    "pos_ind = np.where(lmod.classes_ == transf_train.favorable_label)[0][0]\n",
    "\n",
    "transf_train_post = transf_train.copy(deepcopy=True)\n",
    "X_reweighed_train_post = scale_transf.fit_transform(transf_train_post.features)\n",
    "y_train_post = transf_train_post.labels\n",
    "transf_train_post.scores = lmod.predict_proba(X_reweighed_train_post)[:,pos_ind].reshape(-1,1)\n",
    "\n",
    "transf_test_post = transf_test.copy(deepcopy=True)\n",
    "X_reweighed_test_post = scale_transf.fit_transform(transf_test_post.features)\n",
    "y_test_post = transf_test_post.labels\n",
    "transf_test_post.scores = lmod.predict_proba(X_reweighed_test_post)[:,pos_ind].reshape(-1,1)"
   ]
  },
  {
   "cell_type": "code",
   "execution_count": 27,
   "id": "ee42fed8",
   "metadata": {},
   "outputs": [],
   "source": [
    "from aif360.algorithms.postprocessing.reject_option_classification\\\n",
    "        import RejectOptionClassification\n",
    "\n",
    "metric_ub = 0.05\n",
    "metric_lb = -0.05\n",
    "\n",
    "ROC = RejectOptionClassification(unprivileged_groups=unprivileged_groups, \n",
    "                                 privileged_groups=privileged_groups, \n",
    "                                 low_class_thresh=0.01, high_class_thresh=0.99,\n",
    "                                  num_class_thresh=100, num_ROC_margin=50,\n",
    "                                  metric_name= 'Statistical parity difference',\n",
    "                                  metric_ub=metric_ub, metric_lb=metric_lb)\n",
    "                                  \n",
    "ROC = ROC.fit(transf_test, transf_test_post)"
   ]
  },
  {
   "cell_type": "code",
   "execution_count": 28,
   "id": "83c6801e",
   "metadata": {},
   "outputs": [
    {
     "name": "stdout",
     "output_type": "stream",
     "text": [
      "Optimal classification threshold (with fairness constraints) = 0.8316\n",
      "Optimal ROC margin = 0.0069\n"
     ]
    }
   ],
   "source": [
    "print(\"Optimal classification threshold (with fairness constraints) = %.4f\" % ROC.classification_threshold)\n",
    "print(\"Optimal ROC margin = %.4f\" % ROC.ROC_margin)"
   ]
  },
  {
   "cell_type": "code",
   "execution_count": 29,
   "id": "3b223a33",
   "metadata": {},
   "outputs": [],
   "source": [
    "from collections import OrderedDict\n",
    "from aif360.metrics import ClassificationMetric\n",
    "\n",
    "def compute_metrics(dataset_true, dataset_pred, \n",
    "                    unprivileged_groups, privileged_groups,\n",
    "                    disp = True):\n",
    "    \"\"\" Compute the key metrics \"\"\"\n",
    "    classified_metric_pred = ClassificationMetric(dataset_true,\n",
    "                                                 dataset_pred, \n",
    "                                                 unprivileged_groups=unprivileged_groups,\n",
    "                                                 privileged_groups=privileged_groups)\n",
    "    metrics = OrderedDict()\n",
    "    metrics[\"Balanced accuracy\"] = 0.5*(classified_metric_pred.true_positive_rate()+\n",
    "                                             classified_metric_pred.true_negative_rate())\n",
    "    metrics[\"Statistical parity difference\"] = classified_metric_pred.statistical_parity_difference()\n",
    "    metrics[\"Disparate impact\"] = classified_metric_pred.disparate_impact()\n",
    "    metrics[\"Average odds difference\"] = classified_metric_pred.average_odds_difference()\n",
    "    metrics[\"Equal opportunity difference\"] = classified_metric_pred.equal_opportunity_difference()\n",
    "    metrics[\"Theil index\"] = classified_metric_pred.theil_index()\n",
    "    \n",
    "    if disp:\n",
    "        for k in metrics:\n",
    "            print(\"%s = %.4f\" % (k, metrics[k]))\n",
    "    \n",
    "    return metrics"
   ]
  },
  {
   "cell_type": "code",
   "execution_count": 30,
   "id": "086fe5a6",
   "metadata": {},
   "outputs": [],
   "source": [
    "# Metrics for the transformed test set\n",
    "dataset_transf_test_post = ROC.predict(transf_test_post)"
   ]
  },
  {
   "cell_type": "code",
   "execution_count": 31,
   "id": "52ed927e",
   "metadata": {},
   "outputs": [
    {
     "name": "stdout",
     "output_type": "stream",
     "text": [
      "Balanced accuracy = 0.8963\n",
      "Statistical parity difference = -0.0099\n",
      "Disparate impact = 0.9777\n",
      "Average odds difference = -0.0205\n",
      "Equal opportunity difference = -0.0413\n",
      "Theil index = 0.1155\n"
     ]
    }
   ],
   "source": [
    "metric_test_aft = compute_metrics(transf_test, dataset_transf_test_post, \n",
    "                unprivileged_groups, privileged_groups)"
   ]
  },
  {
   "cell_type": "markdown",
   "id": "29eaca9b",
   "metadata": {},
   "source": [
    "### This concludes our bias mitigation efforts. We can safely say we have achieved a fairly fair model."
   ]
  }
 ],
 "metadata": {
  "kernelspec": {
   "display_name": "Python 3",
   "language": "python",
   "name": "python3"
  },
  "language_info": {
   "codemirror_mode": {
    "name": "ipython",
    "version": 3
   },
   "file_extension": ".py",
   "mimetype": "text/x-python",
   "name": "python",
   "nbconvert_exporter": "python",
   "pygments_lexer": "ipython3",
   "version": "3.8.8"
  }
 },
 "nbformat": 4,
 "nbformat_minor": 5
}
